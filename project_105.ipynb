{
  "nbformat": 4,
  "nbformat_minor": 0,
  "metadata": {
    "colab": {
      "provenance": [],
      "collapsed_sections": [],
      "authorship_tag": "ABX9TyPwYAKPc/ZohpG1V9vzkhas",
      "include_colab_link": true
    },
    "kernelspec": {
      "name": "python3",
      "display_name": "Python 3"
    },
    "language_info": {
      "name": "python"
    }
  },
  "cells": [
    {
      "cell_type": "markdown",
      "metadata": {
        "id": "view-in-github",
        "colab_type": "text"
      },
      "source": [
        "<a href=\"https://colab.research.google.com/github/parkhigarg/-20-pro/blob/main/project_105.ipynb\" target=\"_parent\"><img src=\"https://colab.research.google.com/assets/colab-badge.svg\" alt=\"Open In Colab\"/></a>"
      ]
    },
    {
      "cell_type": "code",
      "execution_count": null,
      "metadata": {
        "colab": {
          "base_uri": "https://localhost:8080/"
        },
        "id": "TKW2sDaD4cHJ",
        "outputId": "59f7b8b3-a30c-4d8b-e1f0-bdc43903b6e4"
      },
      "outputs": [
        {
          "output_type": "stream",
          "name": "stdout",
          "text": [
            "Enter lower range limit:10\n",
            "Enter upper range limit:50\n",
            "Enter the number to be divided by:5\n",
            "10\n",
            "15\n",
            "20\n",
            "25\n",
            "30\n",
            "35\n",
            "40\n",
            "45\n",
            "50\n"
          ]
        }
      ],
      "source": [
        "lower=int(input(\"Enter lower range limit:\")) \n",
        "upper=int(input(\"Enter upper range limit:\")) \n",
        "n=int(input(\"Enter the number to be divided by:\")) \n",
        "for i in range(lower,upper+1): \n",
        "  if(i%n==0): print(i)"
      ]
    }
  ]
}