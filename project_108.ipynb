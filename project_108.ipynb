{
  "nbformat": 4,
  "nbformat_minor": 0,
  "metadata": {
    "colab": {
      "provenance": [],
      "collapsed_sections": [],
      "authorship_tag": "ABX9TyNuguOR4JOCbSj0Rc5KXUWE",
      "include_colab_link": true
    },
    "kernelspec": {
      "name": "python3",
      "display_name": "Python 3"
    },
    "language_info": {
      "name": "python"
    }
  },
  "cells": [
    {
      "cell_type": "markdown",
      "metadata": {
        "id": "view-in-github",
        "colab_type": "text"
      },
      "source": [
        "<a href=\"https://colab.research.google.com/github/parkhigarg/-20-pro/blob/main/project_108.ipynb\" target=\"_parent\"><img src=\"https://colab.research.google.com/assets/colab-badge.svg\" alt=\"Open In Colab\"/></a>"
      ]
    },
    {
      "cell_type": "code",
      "execution_count": 3,
      "metadata": {
        "colab": {
          "base_uri": "https://localhost:8080/"
        },
        "id": "QEysRoa97Azt",
        "outputId": "00aa0d41-022c-4a16-c288-87922735cc70"
      },
      "outputs": [
        {
          "output_type": "stream",
          "name": "stdout",
          "text": [
            "Enter your name : Madhav\n",
            "M * * * * * \n",
            "* a * * * * \n",
            "* * d * * * \n",
            "* * * h * * \n",
            "* * * * a * \n",
            "* * * * * v \n"
          ]
        }
      ],
      "source": [
        "name=(input(\"Enter your name : \")) \n",
        "iteration = len(name) \n",
        "for i in range(0,iteration): \n",
        "  for j in range(0,iteration): \n",
        "    if(i==j): \n",
        "      print(name[j],sep=\" \",end=\" \") \n",
        "    else: \n",
        "      print(\"*\",sep=\" \",end=\" \") \n",
        "  print()"
      ]
    }
  ]
}