{
  "nbformat": 4,
  "nbformat_minor": 0,
  "metadata": {
    "colab": {
      "provenance": [],
      "authorship_tag": "ABX9TyOUCfrKHnYGqy/HxFJqlwio",
      "include_colab_link": true
    },
    "kernelspec": {
      "name": "python3",
      "display_name": "Python 3"
    },
    "language_info": {
      "name": "python"
    }
  },
  "cells": [
    {
      "cell_type": "markdown",
      "metadata": {
        "id": "view-in-github",
        "colab_type": "text"
      },
      "source": [
        "<a href=\"https://colab.research.google.com/github/parkhigarg/-20-pro/blob/main/project_110.ipynb\" target=\"_parent\"><img src=\"https://colab.research.google.com/assets/colab-badge.svg\" alt=\"Open In Colab\"/></a>"
      ]
    },
    {
      "cell_type": "code",
      "execution_count": null,
      "metadata": {
        "colab": {
          "base_uri": "https://localhost:8080/"
        },
        "id": "yuzDAKm2_QkC",
        "outputId": "3381f657-173a-4f0d-fbad-f651a878c8b1"
      },
      "outputs": [
        {
          "output_type": "stream",
          "name": "stdout",
          "text": [
            "[-----]\n",
            "[0 0 0]\n",
            "[     ]\n",
            "[0 0 0]\n",
            "[-----]\n"
          ]
        }
      ],
      "source": [
        "import random \n",
        "  \n",
        "# Take a variable to store response to keep rolling a dice\n",
        "response = \"y\"\n",
        "   \n",
        "while response == \"y\": \n",
        "      \n",
        "    # Gnenerates a random number \n",
        "    # between 1 and 6 (including \n",
        "    # both 1 and 6) \n",
        "    no = random.randint(1,6) \n",
        "\n",
        "    # conditions to check the number value  \n",
        "    if no == 1: \n",
        "        print(\"[-----]\") \n",
        "        print(\"[     ]\") \n",
        "        print(\"[  0  ]\") \n",
        "        print(\"[     ]\") \n",
        "        print(\"[-----]\") \n",
        "    if no == 2: \n",
        "        print(\"[-----]\") \n",
        "        print(\"[ 0   ]\") \n",
        "        print(\"[     ]\") \n",
        "        print(\"[   0 ]\") \n",
        "        print(\"[-----]\") \n",
        "    if no == 3: \n",
        "        print(\"[-----]\") \n",
        "        print(\"[     ]\") \n",
        "        print(\"[0 0 0]\") \n",
        "        print(\"[     ]\") \n",
        "        print(\"[-----]\") \n",
        "    if no == 4: \n",
        "        print(\"[-----]\") \n",
        "        print(\"[0   0]\") \n",
        "        print(\"[     ]\") \n",
        "        print(\"[0   0]\") \n",
        "        print(\"[-----]\") \n",
        "    if no == 5: \n",
        "        print(\"[-----]\") \n",
        "        print(\"[0   0]\") \n",
        "        print(\"[  0  ]\") \n",
        "        print(\"[0   0]\") \n",
        "        print(\"[-----]\") \n",
        "    if no == 6: \n",
        "        print(\"[-----]\") \n",
        "        print(\"[0 0 0]\") \n",
        "        print(\"[     ]\") \n",
        "        print(\"[0 0 0]\") \n",
        "        print(\"[-----]\") \n",
        "          \n",
        "    # Ask user to enter a response      \n",
        "    response=input(\"press y to roll again and n to exit:\") \n",
        "    print(\"\\n\")"
      ]
    }
  ]
}